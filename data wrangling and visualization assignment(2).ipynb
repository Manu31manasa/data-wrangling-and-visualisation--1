{
 "cells": [
  {
   "cell_type": "code",
   "execution_count": 1,
   "id": "1e536877",
   "metadata": {},
   "outputs": [
    {
     "name": "stdout",
     "output_type": "stream",
     "text": [
      "The Required answer is :  [0. 0. 0. 0. 1. 0. 0. 0. 0. 0.]\n"
     ]
    }
   ],
   "source": [
    "# 1. Create a null vector of size 10 but the fifth value which is 1.\n",
    "\n",
    "# Solution :-\n",
    "\n",
    "import numpy as np \n",
    "\n",
    "null_vector = np.zeros(10) \n",
    "null_vector[4] = 1 \n",
    "print('The Required answer is : ',null_vector)"
   ]
  },
  {
   "cell_type": "code",
   "execution_count": 2,
   "id": "b24046ec",
   "metadata": {},
   "outputs": [
    {
     "name": "stdout",
     "output_type": "stream",
     "text": [
      "The required vector is :  [10 11 12 13 14 15 16 17 18 19 20 21 22 23 24 25 26 27 28 29 30 31 32 33\n",
      " 34 35 36 37 38 39 40 41 42 43 44 45 46 47 48 49]\n"
     ]
    }
   ],
   "source": [
    "# 2.Create a vector with values ranging from 10 to 49.\n",
    "import numpy as np\n",
    "\n",
    "vector = np.arange(10,50)\n",
    "print('The required vector is : ',vector)"
   ]
  },
  {
   "cell_type": "code",
   "execution_count": 3,
   "id": "bc23d015",
   "metadata": {},
   "outputs": [
    {
     "name": "stdout",
     "output_type": "stream",
     "text": [
      "The 3x3 matrix is :  [[0 1 2]\n",
      " [3 4 5]\n",
      " [6 7 8]]\n"
     ]
    }
   ],
   "source": [
    "# 3. Create a 3x3 matrix with values ranging from 0 to 8\n",
    "import numpy as np\n",
    "\n",
    "matrix = np.array([[0,1,2],[3,4,5],[6,7,8]])\n",
    "\n",
    "print('The 3x3 matrix is : ' ,matrix)"
   ]
  },
  {
   "cell_type": "code",
   "execution_count": 4,
   "id": "1723d9f6",
   "metadata": {},
   "outputs": [
    {
     "name": "stdout",
     "output_type": "stream",
     "text": [
      "Non-zero elements indices:\n",
      "The result is :  (array([0, 1, 4], dtype=int64),)\n"
     ]
    }
   ],
   "source": [
    "# 4. Find indices of non-zero elements from [1,2,0,0,4,0]\n",
    "import numpy as np \n",
    "\n",
    "list_1 = [1,2,0,0,4,0] \n",
    "\n",
    "print(\"Non-zero elements indices:\") \n",
    "\n",
    "result = np.nonzero(list_1) \n",
    "\n",
    "print('The result is : ' ,result)"
   ]
  },
  {
   "cell_type": "code",
   "execution_count": 5,
   "id": "c1dbc0ad",
   "metadata": {},
   "outputs": [
    {
     "name": "stdout",
     "output_type": "stream",
     "text": [
      "The 10x10 array of random values is:\n",
      "\n",
      "[[ 94  27  71  89  98 103 148  81  37 123]\n",
      " [ 88  62   4  96   1   3   5 139  45   1]\n",
      " [ 90  66  41 119 133  85 116   2  86 101]\n",
      " [ 12  36 129 106  42  31  50 139 102  24]\n",
      " [ 49  78 133 108  38  19  76  28  65  13]\n",
      " [124 132 145  16   6  70  82  84  54   3]\n",
      " [ 14  59  91 100  22 118  58 140 108  21]\n",
      " [ 84  63  51 142  37  75  34  58  80  14]\n",
      " [ 55 126  91 112  28 148 137 123 126   4]\n",
      " [140 111 104  65  37  49  38   5 117 106]]\n",
      "\n",
      "The minimum value in the array is: 1\n",
      "The maximum value in the array is: 148\n"
     ]
    }
   ],
   "source": [
    "# 5. Create a 10x10 array with random values and find the minimum and maximum values.\n",
    "\n",
    "import numpy as np \n",
    "\n",
    "array = np.random.randint(low=1, high=150, size=(10, 10)) \n",
    "\n",
    "print(\"The 10x10 array of random values is:\\n\") \n",
    "print(array) \n",
    "\n",
    "print(\"\\nThe minimum value in the array is:\", np.min(array)) \n",
    "print(\"The maximum value in the array is:\", np.max(array))"
   ]
  },
  {
   "cell_type": "code",
   "execution_count": 6,
   "id": "40177e08",
   "metadata": {},
   "outputs": [
    {
     "name": "stdout",
     "output_type": "stream",
     "text": [
      "Random vector is : [10 71 15  5 81 54 49 84 99 10 48 83 58  6 12 24 76 85 28 22 70 64 19 10\n",
      " 62  2  1 17 16 11]\n",
      "Mean value of the vector is : 39.733333333333334\n"
     ]
    }
   ],
   "source": [
    "# 6. Create a random vector of size 30 and find the mean value.\n",
    "\n",
    "\n",
    "import numpy as np\n",
    "\n",
    "rand_vector = np.random.randint(1,100,30)\n",
    "\n",
    "mean_value = np.mean(rand_vector)\n",
    "\n",
    "print(\"Random vector is :\", rand_vector)\n",
    "print(\"Mean value of the vector is :\", mean_value)"
   ]
  },
  {
   "cell_type": "code",
   "execution_count": null,
   "id": "0e79e187",
   "metadata": {},
   "outputs": [],
   "source": []
  }
 ],
 "metadata": {
  "kernelspec": {
   "display_name": "Python 3 (ipykernel)",
   "language": "python",
   "name": "python3"
  },
  "language_info": {
   "codemirror_mode": {
    "name": "ipython",
    "version": 3
   },
   "file_extension": ".py",
   "mimetype": "text/x-python",
   "name": "python",
   "nbconvert_exporter": "python",
   "pygments_lexer": "ipython3",
   "version": "3.9.13"
  }
 },
 "nbformat": 4,
 "nbformat_minor": 5
}
